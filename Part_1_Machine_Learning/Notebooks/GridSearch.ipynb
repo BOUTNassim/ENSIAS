{
 "cells": [
  {
   "cell_type": "markdown",
   "metadata": {},
   "source": [
    "## SVC with Grid Search"
   ]
  },
  {
   "cell_type": "code",
   "execution_count": 1,
   "metadata": {},
   "outputs": [],
   "source": [
    "#BOUT Nassim"
   ]
  },
  {
   "cell_type": "code",
   "execution_count": 2,
   "metadata": {
    "collapsed": true
   },
   "outputs": [],
   "source": [
    "from sklearn.model_selection import train_test_split\n",
    "from sklearn.datasets import make_moons\n",
    "from sklearn.svm import SVC\n",
    "\n",
    "from sklearn.model_selection import GridSearchCV\n",
    "import sklearn\n",
    "import numpy as np\n",
    "\n",
    "np.random.seed(42)\n",
    "random_state = 42"
   ]
  },
  {
   "cell_type": "code",
   "execution_count": 3,
   "metadata": {},
   "outputs": [
    {
     "output_type": "stream",
     "name": "stdout",
     "text": [
      "Fitting 5 folds for each of 17 candidates, totalling 85 fits\n",
      "[CV] C=10.0, kernel=linear ...........................................\n",
      "[CV] ............................ C=10.0, kernel=linear, total=   0.0s\n",
      "[CV] C=10.0, kernel=linear ...........................................\n",
      "[CV] ............................ C=10.0, kernel=linear, total=   0.0s\n",
      "[CV] C=10.0, kernel=linear ...........................................\n",
      "[CV] ............................ C=10.0, kernel=linear, total=   0.0s\n",
      "[CV] C=10.0, kernel=linear ...........................................\n",
      "[CV] ............................ C=10.0, kernel=linear, total=   0.0s\n",
      "[CV] C=10.0, kernel=linear ...........................................\n",
      "[CV] ............................ C=10.0, kernel=linear, total=   0.0s\n",
      "[CV] C=30.0, kernel=linear ...........................................\n",
      "[CV] ............................ C=30.0, kernel=linear, total=   0.0s\n",
      "[CV] C=30.0, kernel=linear ...........................................\n",
      "[CV] ............................ C=30.0, kernel=linear, total=   0.0s\n",
      "[CV] C=30.0, kernel=linear ...........................................\n",
      "[CV] ............................ C=30.0, kernel=linear, total=   0.0s\n",
      "[CV] C=30.0, kernel=linear ...........................................\n",
      "[CV] ............................ C=30.0, kernel=linear, total=   0.0s\n",
      "[CV] C=30.0, kernel=linear ...........................................\n",
      "[CV] ............................ C=30.0, kernel=linear, total=   0.0s\n",
      "[CV] C=100.0, kernel=linear ..........................................\n",
      "[CV] ........................... C=100.0, kernel=linear, total=   0.0s\n",
      "[CV] C=100.0, kernel=linear ..........................................\n",
      "[CV] ........................... C=100.0, kernel=linear, total=   0.0s\n",
      "[CV] C=100.0, kernel=linear ..........................................\n",
      "[CV] ........................... C=100.0, kernel=linear, total=   0.0s\n",
      "[CV] C=100.0, kernel=linear ..........................................\n",
      "[CV] ........................... C=100.0, kernel=linear, total=   0.0s\n",
      "[CV] C=100.0, kernel=linear ..........................................\n",
      "[CV] ........................... C=100.0, kernel=linear, total=   0.0s\n",
      "[CV] C=300.0, kernel=linear ..........................................\n",
      "[CV] ........................... C=300.0, kernel=linear, total=   0.0s\n",
      "[CV] C=300.0, kernel=linear ..........................................\n",
      "[CV] ........................... C=300.0, kernel=linear, total=   0.0s\n",
      "[CV] C=300.0, kernel=linear ..........................................\n",
      "[CV] ........................... C=300.0, kernel=linear, total=   0.0s\n",
      "[CV] C=300.0, kernel=linear ..........................................\n",
      "[Parallel(n_jobs=1)]: Using backend SequentialBackend with 1 concurrent workers.\n",
      "[Parallel(n_jobs=1)]: Done   1 out of   1 | elapsed:    0.0s remaining:    0.0s\n",
      "[CV] ........................... C=300.0, kernel=linear, total=   0.0s\n",
      "[CV] C=300.0, kernel=linear ..........................................\n",
      "[CV] ........................... C=300.0, kernel=linear, total=   0.0s\n",
      "[CV] C=1000.0, kernel=linear .........................................\n",
      "[CV] .......................... C=1000.0, kernel=linear, total=   0.1s\n",
      "[CV] C=1000.0, kernel=linear .........................................\n",
      "[CV] .......................... C=1000.0, kernel=linear, total=   0.1s\n",
      "[CV] C=1000.0, kernel=linear .........................................\n",
      "[CV] .......................... C=1000.0, kernel=linear, total=   0.1s\n",
      "[CV] C=1000.0, kernel=linear .........................................\n",
      "[CV] .......................... C=1000.0, kernel=linear, total=   0.0s\n",
      "[CV] C=1000.0, kernel=linear .........................................\n",
      "[CV] .......................... C=1000.0, kernel=linear, total=   0.0s\n",
      "[CV] C=1.0, gamma=0.01, kernel=rbf ...................................\n",
      "[CV] .................... C=1.0, gamma=0.01, kernel=rbf, total=   0.0s\n",
      "[CV] C=1.0, gamma=0.01, kernel=rbf ...................................\n",
      "[CV] .................... C=1.0, gamma=0.01, kernel=rbf, total=   0.0s\n",
      "[CV] C=1.0, gamma=0.01, kernel=rbf ...................................\n",
      "[CV] .................... C=1.0, gamma=0.01, kernel=rbf, total=   0.0s\n",
      "[CV] C=1.0, gamma=0.01, kernel=rbf ...................................\n",
      "[CV] .................... C=1.0, gamma=0.01, kernel=rbf, total=   0.0s\n",
      "[CV] C=1.0, gamma=0.01, kernel=rbf ...................................\n",
      "[CV] .................... C=1.0, gamma=0.01, kernel=rbf, total=   0.0s\n",
      "[CV] C=1.0, gamma=0.03, kernel=rbf ...................................\n",
      "[CV] .................... C=1.0, gamma=0.03, kernel=rbf, total=   0.0s\n",
      "[CV] C=1.0, gamma=0.03, kernel=rbf ...................................\n",
      "[CV] .................... C=1.0, gamma=0.03, kernel=rbf, total=   0.0s\n",
      "[CV] C=1.0, gamma=0.03, kernel=rbf ...................................\n",
      "[CV] .................... C=1.0, gamma=0.03, kernel=rbf, total=   0.0s\n",
      "[CV] C=1.0, gamma=0.03, kernel=rbf ...................................\n",
      "[CV] .................... C=1.0, gamma=0.03, kernel=rbf, total=   0.0s\n",
      "[CV] C=1.0, gamma=0.03, kernel=rbf ...................................\n",
      "[CV] .................... C=1.0, gamma=0.03, kernel=rbf, total=   0.0s\n",
      "[CV] C=1.0, gamma=0.1, kernel=rbf ....................................\n",
      "[CV] ..................... C=1.0, gamma=0.1, kernel=rbf, total=   0.0s\n",
      "[CV] C=1.0, gamma=0.1, kernel=rbf ....................................\n",
      "[CV] ..................... C=1.0, gamma=0.1, kernel=rbf, total=   0.0s\n",
      "[CV] C=1.0, gamma=0.1, kernel=rbf ....................................\n",
      "[CV] ..................... C=1.0, gamma=0.1, kernel=rbf, total=   0.0s\n",
      "[CV] C=1.0, gamma=0.1, kernel=rbf ....................................\n",
      "[CV] ..................... C=1.0, gamma=0.1, kernel=rbf, total=   0.0s\n",
      "[CV] C=1.0, gamma=0.1, kernel=rbf ....................................\n",
      "[CV] ..................... C=1.0, gamma=0.1, kernel=rbf, total=   0.0s\n",
      "[CV] C=3.0, gamma=0.01, kernel=rbf ...................................\n",
      "[CV] .................... C=3.0, gamma=0.01, kernel=rbf, total=   0.0s\n",
      "[CV] C=3.0, gamma=0.01, kernel=rbf ...................................\n",
      "[CV] .................... C=3.0, gamma=0.01, kernel=rbf, total=   0.0s\n",
      "[CV] C=3.0, gamma=0.01, kernel=rbf ...................................\n",
      "[CV] .................... C=3.0, gamma=0.01, kernel=rbf, total=   0.0s\n",
      "[CV] C=3.0, gamma=0.01, kernel=rbf ...................................\n",
      "[CV] .................... C=3.0, gamma=0.01, kernel=rbf, total=   0.0s\n",
      "[CV] C=3.0, gamma=0.01, kernel=rbf ...................................\n",
      "[CV] .................... C=3.0, gamma=0.01, kernel=rbf, total=   0.0s\n",
      "[CV] C=3.0, gamma=0.03, kernel=rbf ...................................\n",
      "[CV] .................... C=3.0, gamma=0.03, kernel=rbf, total=   0.0s\n",
      "[CV] C=3.0, gamma=0.03, kernel=rbf ...................................\n",
      "[CV] .................... C=3.0, gamma=0.03, kernel=rbf, total=   0.0s\n",
      "[CV] C=3.0, gamma=0.03, kernel=rbf ...................................\n",
      "[CV] .................... C=3.0, gamma=0.03, kernel=rbf, total=   0.0s\n",
      "[CV] C=3.0, gamma=0.03, kernel=rbf ...................................\n",
      "[CV] .................... C=3.0, gamma=0.03, kernel=rbf, total=   0.0s\n",
      "[CV] C=3.0, gamma=0.03, kernel=rbf ...................................\n",
      "[CV] .................... C=3.0, gamma=0.03, kernel=rbf, total=   0.0s\n",
      "[CV] C=3.0, gamma=0.1, kernel=rbf ....................................\n",
      "[CV] ..................... C=3.0, gamma=0.1, kernel=rbf, total=   0.0s\n",
      "[CV] C=3.0, gamma=0.1, kernel=rbf ....................................\n",
      "[CV] ..................... C=3.0, gamma=0.1, kernel=rbf, total=   0.0s\n",
      "[CV] C=3.0, gamma=0.1, kernel=rbf ....................................\n",
      "[CV] ..................... C=3.0, gamma=0.1, kernel=rbf, total=   0.0s\n",
      "[CV] C=3.0, gamma=0.1, kernel=rbf ....................................\n",
      "[CV] ..................... C=3.0, gamma=0.1, kernel=rbf, total=   0.0s\n",
      "[CV] C=3.0, gamma=0.1, kernel=rbf ....................................\n",
      "[CV] ..................... C=3.0, gamma=0.1, kernel=rbf, total=   0.0s\n",
      "[CV] C=10.0, gamma=0.01, kernel=rbf ..................................\n",
      "[CV] ................... C=10.0, gamma=0.01, kernel=rbf, total=   0.0s\n",
      "[CV] C=10.0, gamma=0.01, kernel=rbf ..................................\n",
      "[CV] ................... C=10.0, gamma=0.01, kernel=rbf, total=   0.0s\n",
      "[CV] C=10.0, gamma=0.01, kernel=rbf ..................................\n",
      "[CV] ................... C=10.0, gamma=0.01, kernel=rbf, total=   0.0s\n",
      "[CV] C=10.0, gamma=0.01, kernel=rbf ..................................\n",
      "[CV] ................... C=10.0, gamma=0.01, kernel=rbf, total=   0.0s\n",
      "[CV] C=10.0, gamma=0.01, kernel=rbf ..................................\n",
      "[CV] ................... C=10.0, gamma=0.01, kernel=rbf, total=   0.0s\n",
      "[CV] C=10.0, gamma=0.03, kernel=rbf ..................................\n",
      "[CV] ................... C=10.0, gamma=0.03, kernel=rbf, total=   0.0s\n",
      "[CV] C=10.0, gamma=0.03, kernel=rbf ..................................\n",
      "[CV] ................... C=10.0, gamma=0.03, kernel=rbf, total=   0.0s\n",
      "[CV] C=10.0, gamma=0.03, kernel=rbf ..................................\n",
      "[CV] ................... C=10.0, gamma=0.03, kernel=rbf, total=   0.0s\n",
      "[CV] C=10.0, gamma=0.03, kernel=rbf ..................................\n",
      "[CV] ................... C=10.0, gamma=0.03, kernel=rbf, total=   0.0s\n",
      "[CV] C=10.0, gamma=0.03, kernel=rbf ..................................\n",
      "[CV] ................... C=10.0, gamma=0.03, kernel=rbf, total=   0.0s\n",
      "[CV] C=10.0, gamma=0.1, kernel=rbf ...................................\n",
      "[CV] .................... C=10.0, gamma=0.1, kernel=rbf, total=   0.0s\n",
      "[CV] C=10.0, gamma=0.1, kernel=rbf ...................................\n",
      "[CV] .................... C=10.0, gamma=0.1, kernel=rbf, total=   0.0s\n",
      "[CV] C=10.0, gamma=0.1, kernel=rbf ...................................\n",
      "[CV] .................... C=10.0, gamma=0.1, kernel=rbf, total=   0.0s\n",
      "[CV] C=10.0, gamma=0.1, kernel=rbf ...................................\n",
      "[CV] .................... C=10.0, gamma=0.1, kernel=rbf, total=   0.0s\n",
      "[CV] C=10.0, gamma=0.1, kernel=rbf ...................................\n",
      "[CV] .................... C=10.0, gamma=0.1, kernel=rbf, total=   0.0s\n",
      "[CV] C=30.0, gamma=0.01, kernel=rbf ..................................\n",
      "[CV] ................... C=30.0, gamma=0.01, kernel=rbf, total=   0.0s\n",
      "[CV] C=30.0, gamma=0.01, kernel=rbf ..................................\n",
      "[CV] ................... C=30.0, gamma=0.01, kernel=rbf, total=   0.0s\n",
      "[CV] C=30.0, gamma=0.01, kernel=rbf ..................................\n",
      "[CV] ................... C=30.0, gamma=0.01, kernel=rbf, total=   0.0s\n",
      "[CV] C=30.0, gamma=0.01, kernel=rbf ..................................\n",
      "[CV] ................... C=30.0, gamma=0.01, kernel=rbf, total=   0.0s\n",
      "[CV] C=30.0, gamma=0.01, kernel=rbf ..................................\n",
      "[CV] ................... C=30.0, gamma=0.01, kernel=rbf, total=   0.0s\n",
      "[CV] C=30.0, gamma=0.03, kernel=rbf ..................................\n",
      "[CV] ................... C=30.0, gamma=0.03, kernel=rbf, total=   0.0s\n",
      "[CV] C=30.0, gamma=0.03, kernel=rbf ..................................\n",
      "[CV] ................... C=30.0, gamma=0.03, kernel=rbf, total=   0.0s\n",
      "[CV] C=30.0, gamma=0.03, kernel=rbf ..................................\n",
      "[CV] ................... C=30.0, gamma=0.03, kernel=rbf, total=   0.0s\n",
      "[CV] C=30.0, gamma=0.03, kernel=rbf ..................................\n",
      "[CV] ................... C=30.0, gamma=0.03, kernel=rbf, total=   0.0s\n",
      "[CV] C=30.0, gamma=0.03, kernel=rbf ..................................\n",
      "[CV] ................... C=30.0, gamma=0.03, kernel=rbf, total=   0.0s\n",
      "[CV] C=30.0, gamma=0.1, kernel=rbf ...................................\n",
      "[CV] .................... C=30.0, gamma=0.1, kernel=rbf, total=   0.0s\n",
      "[CV] C=30.0, gamma=0.1, kernel=rbf ...................................\n",
      "[CV] .................... C=30.0, gamma=0.1, kernel=rbf, total=   0.0s\n",
      "[CV] C=30.0, gamma=0.1, kernel=rbf ...................................\n",
      "[CV] .................... C=30.0, gamma=0.1, kernel=rbf, total=   0.0s\n",
      "[CV] C=30.0, gamma=0.1, kernel=rbf ...................................\n",
      "[CV] .................... C=30.0, gamma=0.1, kernel=rbf, total=   0.0s\n",
      "[CV] C=30.0, gamma=0.1, kernel=rbf ...................................\n",
      "[CV] .................... C=30.0, gamma=0.1, kernel=rbf, total=   0.0s\n",
      "[Parallel(n_jobs=1)]: Done  85 out of  85 | elapsed:    0.7s finished\n"
     ]
    },
    {
     "output_type": "execute_result",
     "data": {
      "text/plain": [
       "GridSearchCV(cv=5, estimator=SVC(),\n",
       "             param_grid=[{'C': [10.0, 30.0, 100.0, 300.0, 1000.0],\n",
       "                          'kernel': ['linear']},\n",
       "                         {'C': [1.0, 3.0, 10.0, 30.0],\n",
       "                          'gamma': [0.01, 0.03, 0.1], 'kernel': ['rbf']}],\n",
       "             scoring='f1', verbose=2)"
      ]
     },
     "metadata": {},
     "execution_count": 3
    }
   ],
   "source": [
    "X, y = make_moons(n_samples=500, noise=0.30, random_state = random_state)\n",
    "X_train, X_test, y_train, y_test = train_test_split(X, y, random_state = random_state)\n",
    "\n",
    "param_grid = [\n",
    "        {'kernel': ['linear'], 'C': [10., 30., 100., 300., 1000.]},\n",
    "        {'kernel': ['rbf'], 'C': [1.0, 3.0, 10., 30.],\n",
    "         'gamma': [0.01, 0.03, 0.1]},\n",
    "    ]\n",
    "\n",
    "svm_clf = SVC()\n",
    "svm_grid_search = GridSearchCV(svm_clf, param_grid, cv=5, scoring='f1', verbose=2)\n",
    "svm_grid_search.fit(X_train, y_train)"
   ]
  },
  {
   "cell_type": "code",
   "execution_count": 4,
   "metadata": {},
   "outputs": [
    {
     "output_type": "execute_result",
     "data": {
      "text/plain": [
       "0.8901596789815969"
      ]
     },
     "metadata": {},
     "execution_count": 4
    }
   ],
   "source": [
    "svm_grid_search.best_score_"
   ]
  },
  {
   "cell_type": "code",
   "execution_count": 5,
   "metadata": {},
   "outputs": [
    {
     "output_type": "execute_result",
     "data": {
      "text/plain": [
       "{'C': 30.0, 'gamma': 0.1, 'kernel': 'rbf'}"
      ]
     },
     "metadata": {},
     "execution_count": 5
    }
   ],
   "source": [
    "svm_grid_search.best_params_"
   ]
  },
  {
   "cell_type": "code",
   "execution_count": 7,
   "metadata": {
    "collapsed": true
   },
   "outputs": [],
   "source": [
    "# TP\n",
    "#Randomized search"
   ]
  }
 ],
 "metadata": {
  "kernelspec": {
   "name": "python3",
   "display_name": "Python 3.8.6 64-bit",
   "metadata": {
    "interpreter": {
     "hash": "7c09bd5945ece19fdb98e2350a993b2996fd0a289a5a640517e202d56ba7159d"
    }
   }
  },
  "language_info": {
   "codemirror_mode": {
    "name": "ipython",
    "version": 3
   },
   "file_extension": ".py",
   "mimetype": "text/x-python",
   "name": "python",
   "nbconvert_exporter": "python",
   "pygments_lexer": "ipython3",
   "version": "3.8.6-final"
  }
 },
 "nbformat": 4,
 "nbformat_minor": 2
}